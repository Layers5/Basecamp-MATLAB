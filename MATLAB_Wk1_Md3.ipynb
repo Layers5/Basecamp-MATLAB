{
  "nbformat": 4,
  "nbformat_minor": 0,
  "metadata": {
    "colab": {
      "provenance": [],
      "authorship_tag": "ABX9TyOKtd5nk39g5C0WEeXP3qUo",
      "include_colab_link": true
    },
    "kernelspec": {
      "name": "python3",
      "display_name": "Python 3"
    },
    "language_info": {
      "name": "python"
    }
  },
  "cells": [
    {
      "cell_type": "markdown",
      "metadata": {
        "id": "view-in-github",
        "colab_type": "text"
      },
      "source": [
        "<a href=\"https://colab.research.google.com/github/Layers5/Basecamp-MATLAB/blob/main/MATLAB_Wk1_Md3.ipynb\" target=\"_parent\"><img src=\"https://colab.research.google.com/assets/colab-badge.svg\" alt=\"Open In Colab\"/></a>"
      ]
    },
    {
      "cell_type": "markdown",
      "source": [
        "#Basecamp MATLAB Notes\n",
        "###**Week 1 Module 3: Vectorization**"
      ],
      "metadata": {
        "id": "MTxEUNDpPV9e"
      }
    },
    {
      "cell_type": "markdown",
      "source": [
        "###**Using Vectorization**\n",
        "- Why should we **Vectorize** (The process of revising loop-based, sclar oriented code to use MATLAB matrix + vector operations) our code?\n",
        "  - *Appearance* : code will appear more like mathematical expressions found in textbooks, making it easier to understand and read\n",
        "  - *Less error prone* : without loops, the code is shorter- meaning less opportunities for errors to arise\n",
        "  - *Performace* : runs much faster than code containing loops\n",
        "\n",
        "####**Vectorizing code for General Computing**\n",
        "- the following code computes sine of 1,001 values ranging from 1 to 10\n",
        "\n",
        "```\n",
        "i = 0;\n",
        "for t = 0:.01:10\n",
        "  i = i+1;\n",
        "  y(i) = sin(t);\n",
        "end\n",
        "```\n",
        "- the following is the same code but vectorized:\n",
        "```\n",
        "t = 0:.01:10\n",
        "y = sin(t);\n",
        "```\n",
        "- you can also use vectorization to write code for more specific tasks\n",
        "\n",
        "####**Array operations**\n",
        "- If you were to have an array of measurements and you'd like to use them to perform calculations that uses scalars, you can use the same formula, but by adding a period (.) before operators, you turn them into *array operators*\n",
        "\n",
        "```\n",
        "#performing the volume of a cone\n",
        "V = 1/12*pi*(D^2)*H;\n",
        "\n",
        "#normally needing a loop after collecting information on, lets say, 5 cones\n",
        "for n = 1:5\n",
        "   V(n) = 1/12*pi*(D(n)^2)*H(n);\n",
        "end\n",
        "\n",
        "#but in our case, we can turn it into a Vectorized Calculation:\n",
        "V = 1/12*pi*(D.^2).*H;\n",
        "```\n",
        "\n",
        "- you can also use array operators to combine matrices of differing dimensions is by having (Matrix - mean(Matrix))\n",
        "  - MATLAB implicitly expands the vector and the operation executes as a normal element-wise minus operation"
      ],
      "metadata": {
        "id": "TcGBm9W7Psx6"
      }
    }
  ]
}