{
  "nbformat": 4,
  "nbformat_minor": 0,
  "metadata": {
    "colab": {
      "provenance": [],
      "authorship_tag": "ABX9TyMg2BmOT8qRJTS6SQXLVU1b",
      "include_colab_link": true
    },
    "kernelspec": {
      "name": "python3",
      "display_name": "Python 3"
    },
    "language_info": {
      "name": "python"
    }
  },
  "cells": [
    {
      "cell_type": "markdown",
      "metadata": {
        "id": "view-in-github",
        "colab_type": "text"
      },
      "source": [
        "<a href=\"https://colab.research.google.com/github/Layers5/Basecamp-MATLAB/blob/main/MATLAB_Wk1_Md1.ipynb\" target=\"_parent\"><img src=\"https://colab.research.google.com/assets/colab-badge.svg\" alt=\"Open In Colab\"/></a>"
      ]
    },
    {
      "cell_type": "markdown",
      "source": [
        "#Basecamp MATLAB Notes\n",
        "###**Week 1 Module 1: Introduction**"
      ],
      "metadata": {
        "id": "FAuhFX7GI2PG"
      }
    },
    {
      "cell_type": "markdown",
      "source": [
        "###**Introduction to MATLAB Environment**\n",
        "\n",
        "**Variables**\n",
        "\n",
        "This is all done in the *Command Window*\n",
        "\n",
        "- valid variables have:\n",
        "  - begin with a letter\n",
        "  - letters, digits + underscores\n",
        "  - they are CASE SENSITIVE\n",
        "- a variable housing a string is created like you would in Python\n",
        "```\n",
        "MyClass = 'Gateway'\n",
        "```\n",
        "\n",
        "  - this lets MATLAB know that you are associating the variable MyClass with the data 'Gateway' and not another variable named Gateway\n",
        "  - only single quotes are used to create strings- unlike in python how you can use both single and double quotes\n",
        "- performing simple calculations without assigning it a variable will spit out the answer similar to a calculator and the answer will be assigned to variable ***ans*** in the **Name Workspace**\n",
        "\n",
        "\n",
        "```\n",
        ">> 2 + 2\n",
        "\n",
        "ans =\n",
        "\n",
        "  4\n",
        "\n",
        "```\n",
        "- **Clear** command clears all variables stored in workspace\n",
        "- **clc** command clears the command window but not the variables in the workspace\n",
        "- MATLAB will rememeber all variables until you clear it\n",
        "  - if you define a variable that has already been defined, it will be updated in the **Name Workspace** and you wont be able to access the previous data\n",
        "- if you want to print the data of the variable, you just type the variable name and it will automatically print out the data assigned\n",
        "- you can rerun a command (such as adding or multiplying) using the 'up' arrow\n",
        "\n",
        "\n",
        "**Matrices**\n",
        "\n",
        "This is all done in the *Command Window*\n",
        "\n",
        "- define a matrix using brackets ( '[ ]')\n",
        "  - separate columns using a ',' or using spaces\n",
        "  - separate rows using ';'\n",
        "- you can access a specific cell in a matrix using:\n",
        "> matrixname(row#, column#)\n",
        "- matrices start at column 1, rather than starting at 0 like how lists or sets in Python\n",
        "\n",
        "\n",
        "**Script Files**\n",
        "- if you want to save and run code how you normally do in Python, you would open a **Script File**\n",
        "- remember to comment (%) like how you would in python (#)\n",
        "- MATLAB has more defined functions than Python does:\n",
        "\n",
        "```\n",
        "sqrt()\n",
        "plot()\n",
        "log()\n",
        "\n",
        "```\n",
        "\n",
        "- Semicolons (;) suppresses output + makes the command window cleaner while running the script"
      ],
      "metadata": {
        "id": "U8jRo25aKzyr"
      }
    }
  ]
}