{
  "nbformat": 4,
  "nbformat_minor": 0,
  "metadata": {
    "colab": {
      "provenance": [],
      "authorship_tag": "ABX9TyNV/ltv7wT1QtCGXRzGyqGP",
      "include_colab_link": true
    },
    "kernelspec": {
      "name": "python3",
      "display_name": "Python 3"
    },
    "language_info": {
      "name": "python"
    }
  },
  "cells": [
    {
      "cell_type": "markdown",
      "metadata": {
        "id": "view-in-github",
        "colab_type": "text"
      },
      "source": [
        "<a href=\"https://colab.research.google.com/github/Layers5/Basecamp-MATLAB/blob/main/MATLAB_Wk2_Md4.ipynb\" target=\"_parent\"><img src=\"https://colab.research.google.com/assets/colab-badge.svg\" alt=\"Open In Colab\"/></a>"
      ]
    },
    {
      "cell_type": "markdown",
      "source": [
        "#Basecamp MATLAB Notes\n",
        "###**Week 2 Module 4: Built-In MATLAB Functions**"
      ],
      "metadata": {
        "id": "NY4ycKhoPmZI"
      }
    },
    {
      "cell_type": "markdown",
      "source": [
        "- *Functions* in mathematics take numerical inputs and produce defined outputs\n",
        "  - MATLAB has a series of build in functions like **sin**, **min**, **disp('string')**, **strcmp(A,B)**, and many more\n",
        "  - you can use the help command in the command window to look for MATLAB functions\n",
        "\n",
        "####**MATLAB function overview**\n",
        "- **randi()** function generates random numbers\n",
        "  - you can set a maximum and minimum value for the function to go over via **randi([IMIN, IMAX])**\n",
        "  - you can also generate an array of specific dimensions via **randi([IMIN, IMAX], [M,N]), with [M,N] = [num rows, num columns]\n",
        "- **sum()** function returns the sum of elements in an array\n",
        "  - you can choose to only sum the columns or the rows via:\n",
        "    - **sum(array_name, 1)** for columns and returns a row vector of the sums of each column\n",
        "    - **sum(array_name, 2)** for rows and returns a column vector of the sums of each row\n",
        "- **max()/min()** functions return the max and min of a vector\n",
        "  - if you want to provide the location for the max or min of the vector:\n",
        "    **[Y,I] = max/min(x)**\n",
        "    where Y will be the number that is the max/min, and I will indicate the location in the vector where the max/min is\n",
        "  - if you want to find the max/min for matrices:\n",
        "    - **max/min(matrix,[ ],\"all\")** is for the overall min/max of the matrix\n",
        "    - similarly, you can use **[Y,I] = max/min(matrix(:))** to find the overall max/min and its location\n",
        "    - **max/min(matrix)** will simply give the max/min of each column of the matrix\n",
        "- **any()** function returns *True* if any element of a vector is nonzero or is logical 1 (TRUE) and ignores any entries that aren't a number.\n",
        "  - for matrices, the function operates on the columns and returns a row vector of local 1's and 0's\n",
        "  - you can set a specific condition you would like the function to fulfill, such as:\n",
        "\n",
        "  ```\n",
        "A = [2 10 3 4 12 11 6]\n",
        "B = any(A>15)\n",
        "C = any(A<15)\n",
        "D = any(A==4)\n",
        "  ```\n",
        "\n",
        "  In this case, B will return a logical 0 (FALSE) and C and D will return a logical 1 (TRUE)\n",
        "\n",
        "  We can have another example for matrices:\n",
        "\n",
        "  ```\n",
        "E = [1 4 3 7; 8 2 3 9; 6 7 3 1]\n",
        "F = any(B>7)\n",
        "G = any(B<3)\n",
        "  ```\n",
        "\n",
        "  F will return a logical array : [1 0 0 1] and G will return a logical array: [1 1 0 1]\n",
        "\n",
        "- **find()** function finds the indices of nonzero elements\n",
        "  - using the example from before:\n",
        "\n",
        "  ```\n",
        "A = [2 10 3 4 12 11 6]\n",
        "B = find(A>15)\n",
        "C = find(A<15)\n",
        "D = find(A==4)\n",
        "  ```\n",
        "  \n",
        "  As B cannot be satisfied, it will return an empty matrix. C = [ 1 2 3 4 5 6 7] & D = 4\n",
        "  - any time the **find()** cannot be met, it will ALWAYS return an empty matrix"
      ],
      "metadata": {
        "id": "DtStkXp2Qzho"
      }
    }
  ]
}