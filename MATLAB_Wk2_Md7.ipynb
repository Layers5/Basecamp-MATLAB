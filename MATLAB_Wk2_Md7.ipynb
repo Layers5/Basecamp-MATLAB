{
  "nbformat": 4,
  "nbformat_minor": 0,
  "metadata": {
    "colab": {
      "provenance": [],
      "authorship_tag": "ABX9TyMU9jhFz8HI9Lh3SFygyhA1",
      "include_colab_link": true
    },
    "kernelspec": {
      "name": "python3",
      "display_name": "Python 3"
    },
    "language_info": {
      "name": "python"
    }
  },
  "cells": [
    {
      "cell_type": "markdown",
      "metadata": {
        "id": "view-in-github",
        "colab_type": "text"
      },
      "source": [
        "<a href=\"https://colab.research.google.com/github/Layers5/Basecamp-MATLAB/blob/main/MATLAB_Wk2_Md7.ipynb\" target=\"_parent\"><img src=\"https://colab.research.google.com/assets/colab-badge.svg\" alt=\"Open In Colab\"/></a>"
      ]
    },
    {
      "cell_type": "markdown",
      "source": [
        "#Basecamp MATLAB Notes\n",
        "###**Week 2 Module 7: Reading and Writing Files in MATLAB**"
      ],
      "metadata": {
        "id": "aEkTMky2NGD9"
      }
    },
    {
      "cell_type": "markdown",
      "source": [
        "###**Reading and Writing Excel files in MATLAB**\n",
        "\n",
        "- if you want to import/export spreadsheets from Excel, you must check:\n",
        "  - MATLAB should know where the file is saved\n",
        "    1. give the entire directory for the tile\n",
        "    2. save the file int he same folder as your scriprt/function\n",
        "  - the second option is usually the easier and more fool-proof option\n",
        "\n",
        "####*Reading & Writing Excel files*\n",
        "\n",
        "- Reading Excel file Syntax:\n",
        "\n",
        "```\n",
        "xlsread(filename, sheet, xlRange)\n",
        "- filename: reads the first worksheet and returns numerical detail\n",
        "- sheet: reads a specified worksheet\n",
        "- xlrange: reads the specified range on the worksheet\n",
        "```\n",
        "\n",
        "- *xlsread()* is a function with multiple outputs\n",
        "  - the first being numerical outputs\n",
        "\n",
        "- Writing Excel file Syntax:\n",
        "\n",
        "```\n",
        "xlswrite(filemame, A, sheet, xlRange,)\n",
        "-filename: creates a file under the name\n",
        "- A: writes matrix A to the filename beginning in cell A1\n",
        "- sheet: begins at a specified sheer\n",
        "- xlRange: in the region specified by xlRange\n",
        "```\n",
        "\n",
        "####**Reading + Writing CSV Files**\n",
        "\n",
        "- these only contain numeric outputs\n",
        "- Reading CSV file syntax:\n",
        "\n",
        "```\n",
        "csvread(filename, R,C,[R1 RC1 R2 C2])\n",
        "- filename: reads a .csv file and formats it into an array\n",
        "- R,C : reads a .csv rile beginning from row R column C\n",
        "- [R1 C1 R2 C2] : reads a .csv file bound by the range row 1 to row 2 and column 1 to column 2\n",
        "```\n",
        "\n",
        "- .csv files use rows and columns *starting at 0*\n",
        "  - the number values in R and C are offsets from the first row and column\n",
        "\n",
        "- Writing CSV file syntax:\n",
        "```\n",
        "csvwrite(filename, M, R, C)\n",
        "-filename, M: writes matrix M to the file name\n",
        "- R,C : begins at row R and column C\n",
        "```\n",
        "\n",
        "####**Reading & Writing text files**\n",
        "\n",
        "- Writing text file syntax:\n",
        "\n",
        "```\n",
        "fopen(filename, 'r') : opens the file and tells MATLAB it is for reading\n",
        "formatSpec = '%f' : defines the format of the data to be read\n",
        "fscanf(filename, formatSpec) : reads the data and interprets the values based on the specified format\n",
        "fclose(filename): closes the file\n",
        "```\n",
        "- there are many different *formatSpec* types, but MATLAB won't read any values that don't match the specified format\n",
        "\n",
        "- Writing text file syntax:\n",
        "\n",
        "```\n",
        "fopen(filename, 'w'): opens the file and tells MATLAB it is for writing\n",
        "formatSpec = '%f' : defines the format of the data to be written\n",
        "fprintf(filename, formatSpec) : writes the data and applies the specified format\n",
        "fclose(filename): clsoes the file\n"
      ],
      "metadata": {
        "id": "ORatIaIXNOue"
      }
    }
  ]
}